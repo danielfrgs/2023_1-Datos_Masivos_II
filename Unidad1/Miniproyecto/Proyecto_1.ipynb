{
  "nbformat": 4,
  "nbformat_minor": 0,
  "metadata": {
    "colab": {
      "provenance": [],
      "collapsed_sections": [],
      "include_colab_link": true
    },
    "kernelspec": {
      "name": "python3",
      "display_name": "Python 3"
    },
    "language_info": {
      "name": "python"
    }
  },
  "cells": [
    {
      "cell_type": "markdown",
      "metadata": {
        "id": "view-in-github",
        "colab_type": "text"
      },
      "source": [
        "<a href=\"https://colab.research.google.com/github/danielfrgs/2023_1-Datos_Masivos_II/blob/main/Unidad1/Miniproyecto/Proyecto_1.ipynb\" target=\"_parent\"><img src=\"https://colab.research.google.com/assets/colab-badge.svg\" alt=\"Open In Colab\"/></a>"
      ]
    },
    {
      "cell_type": "markdown",
      "source": [
        "#Modelado de Tópicos \n",
        "## Datos Masivos II"
      ],
      "metadata": {
        "id": "4A4tT6kjWSMU"
      }
    },
    {
      "cell_type": "code",
      "source": [
        "!pip3 install nltk"
      ],
      "metadata": {
        "colab": {
          "base_uri": "https://localhost:8080/"
        },
        "id": "y5MEd8S-rnWW",
        "outputId": "56c73af6-9879-4e41-f573-cbe9b42d9415"
      },
      "execution_count": null,
      "outputs": [
        {
          "output_type": "stream",
          "name": "stdout",
          "text": [
            "Looking in indexes: https://pypi.org/simple, https://us-python.pkg.dev/colab-wheels/public/simple/\n",
            "Requirement already satisfied: nltk in /usr/local/lib/python3.7/dist-packages (3.7)\n",
            "Requirement already satisfied: regex>=2021.8.3 in /usr/local/lib/python3.7/dist-packages (from nltk) (2022.6.2)\n",
            "Requirement already satisfied: joblib in /usr/local/lib/python3.7/dist-packages (from nltk) (1.1.0)\n",
            "Requirement already satisfied: tqdm in /usr/local/lib/python3.7/dist-packages (from nltk) (4.64.0)\n",
            "Requirement already satisfied: click in /usr/local/lib/python3.7/dist-packages (from nltk) (7.1.2)\n"
          ]
        }
      ]
    },
    {
      "cell_type": "code",
      "execution_count": null,
      "metadata": {
        "colab": {
          "base_uri": "https://localhost:8080/"
        },
        "id": "cnhYFG9PjUpe",
        "outputId": "9abecdf6-0a5a-4f8c-e789-0d8d793118be"
      },
      "outputs": [
        {
          "output_type": "stream",
          "name": "stderr",
          "text": [
            "[nltk_data] Downloading package stopwords to /root/nltk_data...\n",
            "[nltk_data]   Unzipping corpora/stopwords.zip.\n"
          ]
        }
      ],
      "source": [
        "import pandas as pd\n",
        "import nltk\n",
        "import regex as re\n",
        "from nltk.corpus import stopwords\n",
        "from sklearn.decomposition import TruncatedSVD\n",
        "from sklearn.feature_extraction.text import TfidfVectorizer\n",
        "import matplotlib.pyplot as plt\n",
        "from collections import  Counter\n",
        "import re\n",
        "import codecs\n",
        "from math import log\n",
        "\n",
        "nltk.download(\"stopwords\")\n",
        "stop_words = stopwords.words('english')"
      ]
    },
    {
      "cell_type": "markdown",
      "source": [
        "# Miniproyecto 1\n",
        "\n",
        "- Fragoso Alvarado Daniel\n",
        "\n",
        "- Rangel Ramírez Hugo\n",
        "\n",
        "- Gómez Gonzales Jesús Enríque\n",
        "\n",
        "- Garduño Martínez Eduardo\n",
        "\n",
        "-----"
      ],
      "metadata": {
        "id": "R3dWcrUewFER"
      }
    },
    {
      "cell_type": "markdown",
      "source": [
        "## La base de datos: **People Wikipedia Data**\n",
        "\n",
        "La base de datos consta de `42785` registros con `3`columnas. Cada registro corresponde a una persona con página de wikipedia, entonces, por cada registro tenemos una url a la pagína de wikipedia, el nombre de la persona, y la descripción básica de la persona. Como puede ser de esperarse, en la biográfia de las personas se incluye información sobre las iudades donde nacieron, murieron y crecieron. Aunque esta información puede parecer importante, el objetivo al final es generar un clasificador a partir de las actividades que realizaron en su vida; y mantener la información geográfica puede sezgar el resultado, por lo que se decidió eliminar."
      ],
      "metadata": {
        "id": "KM93IbeewZPv"
      }
    },
    {
      "cell_type": "markdown",
      "source": [
        "# Limpieza"
      ],
      "metadata": {
        "id": "tr2PcOhYrkjf"
      }
    },
    {
      "cell_type": "code",
      "source": [
        "df = pd.read_csv(\"people_wiki.csv\")\n",
        "df"
      ],
      "metadata": {
        "colab": {
          "base_uri": "https://localhost:8080/",
          "height": 424
        },
        "id": "0t3-9QN9jYDB",
        "outputId": "d9d9b82e-4cf5-4b5d-aa21-3aab00878e34"
      },
      "execution_count": null,
      "outputs": [
        {
          "output_type": "execute_result",
          "data": {
            "text/plain": [
              "                                                     URI  \\\n",
              "0            <http://dbpedia.org/resource/Digby_Morrell>   \n",
              "1           <http://dbpedia.org/resource/Alfred_J._Lewy>   \n",
              "2            <http://dbpedia.org/resource/Harpdog_Brown>   \n",
              "3      <http://dbpedia.org/resource/Franz_Rottensteiner>   \n",
              "4                   <http://dbpedia.org/resource/G-Enka>   \n",
              "...                                                  ...   \n",
              "42781   <http://dbpedia.org/resource/Motoaki_Takenouchi>   \n",
              "42782  <http://dbpedia.org/resource/Alan_Judge_(footb...   \n",
              "42783         <http://dbpedia.org/resource/Eduardo_Lara>   \n",
              "42784  <http://dbpedia.org/resource/Tatiana_Faberg%C3...   \n",
              "42785       <http://dbpedia.org/resource/Kenneth_Thomas>   \n",
              "\n",
              "                                     name  \\\n",
              "0                           Digby Morrell   \n",
              "1                          Alfred J. Lewy   \n",
              "2                           Harpdog Brown   \n",
              "3                     Franz Rottensteiner   \n",
              "4                                  G-Enka   \n",
              "...                                   ...   \n",
              "42781                  Motoaki Takenouchi   \n",
              "42782  Alan Judge (footballer, born 1960)   \n",
              "42783                        Eduardo Lara   \n",
              "42784                Tatiana Faberg%C3%A9   \n",
              "42785                      Kenneth Thomas   \n",
              "\n",
              "                                                    text  \n",
              "0      digby morrell born 10 october 1979 is a former...  \n",
              "1      alfred j lewy aka sandy lewy graduated from un...  \n",
              "2      harpdog brown is a singer and harmonica player...  \n",
              "3      franz rottensteiner born in waidmannsfeld lowe...  \n",
              "4      henry krvits born 30 december 1974 in tallinn ...  \n",
              "...                                                  ...  \n",
              "42781  motoaki takenouchi born july 8 1967 saitama pr...  \n",
              "42782  alan graham judge born 14 may 1960 is a retire...  \n",
              "42783  eduardo lara lozano born 4 september 1959 in c...  \n",
              "42784  tatiana faberg is an author and faberg scholar...  \n",
              "42785  kenneth thomas born february 24 1938 was chief...  \n",
              "\n",
              "[42786 rows x 3 columns]"
            ],
            "text/html": [
              "\n",
              "  <div id=\"df-cf83c702-358e-4035-aee8-4f9e8360c690\">\n",
              "    <div class=\"colab-df-container\">\n",
              "      <div>\n",
              "<style scoped>\n",
              "    .dataframe tbody tr th:only-of-type {\n",
              "        vertical-align: middle;\n",
              "    }\n",
              "\n",
              "    .dataframe tbody tr th {\n",
              "        vertical-align: top;\n",
              "    }\n",
              "\n",
              "    .dataframe thead th {\n",
              "        text-align: right;\n",
              "    }\n",
              "</style>\n",
              "<table border=\"1\" class=\"dataframe\">\n",
              "  <thead>\n",
              "    <tr style=\"text-align: right;\">\n",
              "      <th></th>\n",
              "      <th>URI</th>\n",
              "      <th>name</th>\n",
              "      <th>text</th>\n",
              "    </tr>\n",
              "  </thead>\n",
              "  <tbody>\n",
              "    <tr>\n",
              "      <th>0</th>\n",
              "      <td>&lt;http://dbpedia.org/resource/Digby_Morrell&gt;</td>\n",
              "      <td>Digby Morrell</td>\n",
              "      <td>digby morrell born 10 october 1979 is a former...</td>\n",
              "    </tr>\n",
              "    <tr>\n",
              "      <th>1</th>\n",
              "      <td>&lt;http://dbpedia.org/resource/Alfred_J._Lewy&gt;</td>\n",
              "      <td>Alfred J. Lewy</td>\n",
              "      <td>alfred j lewy aka sandy lewy graduated from un...</td>\n",
              "    </tr>\n",
              "    <tr>\n",
              "      <th>2</th>\n",
              "      <td>&lt;http://dbpedia.org/resource/Harpdog_Brown&gt;</td>\n",
              "      <td>Harpdog Brown</td>\n",
              "      <td>harpdog brown is a singer and harmonica player...</td>\n",
              "    </tr>\n",
              "    <tr>\n",
              "      <th>3</th>\n",
              "      <td>&lt;http://dbpedia.org/resource/Franz_Rottensteiner&gt;</td>\n",
              "      <td>Franz Rottensteiner</td>\n",
              "      <td>franz rottensteiner born in waidmannsfeld lowe...</td>\n",
              "    </tr>\n",
              "    <tr>\n",
              "      <th>4</th>\n",
              "      <td>&lt;http://dbpedia.org/resource/G-Enka&gt;</td>\n",
              "      <td>G-Enka</td>\n",
              "      <td>henry krvits born 30 december 1974 in tallinn ...</td>\n",
              "    </tr>\n",
              "    <tr>\n",
              "      <th>...</th>\n",
              "      <td>...</td>\n",
              "      <td>...</td>\n",
              "      <td>...</td>\n",
              "    </tr>\n",
              "    <tr>\n",
              "      <th>42781</th>\n",
              "      <td>&lt;http://dbpedia.org/resource/Motoaki_Takenouchi&gt;</td>\n",
              "      <td>Motoaki Takenouchi</td>\n",
              "      <td>motoaki takenouchi born july 8 1967 saitama pr...</td>\n",
              "    </tr>\n",
              "    <tr>\n",
              "      <th>42782</th>\n",
              "      <td>&lt;http://dbpedia.org/resource/Alan_Judge_(footb...</td>\n",
              "      <td>Alan Judge (footballer, born 1960)</td>\n",
              "      <td>alan graham judge born 14 may 1960 is a retire...</td>\n",
              "    </tr>\n",
              "    <tr>\n",
              "      <th>42783</th>\n",
              "      <td>&lt;http://dbpedia.org/resource/Eduardo_Lara&gt;</td>\n",
              "      <td>Eduardo Lara</td>\n",
              "      <td>eduardo lara lozano born 4 september 1959 in c...</td>\n",
              "    </tr>\n",
              "    <tr>\n",
              "      <th>42784</th>\n",
              "      <td>&lt;http://dbpedia.org/resource/Tatiana_Faberg%C3...</td>\n",
              "      <td>Tatiana Faberg%C3%A9</td>\n",
              "      <td>tatiana faberg is an author and faberg scholar...</td>\n",
              "    </tr>\n",
              "    <tr>\n",
              "      <th>42785</th>\n",
              "      <td>&lt;http://dbpedia.org/resource/Kenneth_Thomas&gt;</td>\n",
              "      <td>Kenneth Thomas</td>\n",
              "      <td>kenneth thomas born february 24 1938 was chief...</td>\n",
              "    </tr>\n",
              "  </tbody>\n",
              "</table>\n",
              "<p>42786 rows × 3 columns</p>\n",
              "</div>\n",
              "      <button class=\"colab-df-convert\" onclick=\"convertToInteractive('df-cf83c702-358e-4035-aee8-4f9e8360c690')\"\n",
              "              title=\"Convert this dataframe to an interactive table.\"\n",
              "              style=\"display:none;\">\n",
              "        \n",
              "  <svg xmlns=\"http://www.w3.org/2000/svg\" height=\"24px\"viewBox=\"0 0 24 24\"\n",
              "       width=\"24px\">\n",
              "    <path d=\"M0 0h24v24H0V0z\" fill=\"none\"/>\n",
              "    <path d=\"M18.56 5.44l.94 2.06.94-2.06 2.06-.94-2.06-.94-.94-2.06-.94 2.06-2.06.94zm-11 1L8.5 8.5l.94-2.06 2.06-.94-2.06-.94L8.5 2.5l-.94 2.06-2.06.94zm10 10l.94 2.06.94-2.06 2.06-.94-2.06-.94-.94-2.06-.94 2.06-2.06.94z\"/><path d=\"M17.41 7.96l-1.37-1.37c-.4-.4-.92-.59-1.43-.59-.52 0-1.04.2-1.43.59L10.3 9.45l-7.72 7.72c-.78.78-.78 2.05 0 2.83L4 21.41c.39.39.9.59 1.41.59.51 0 1.02-.2 1.41-.59l7.78-7.78 2.81-2.81c.8-.78.8-2.07 0-2.86zM5.41 20L4 18.59l7.72-7.72 1.47 1.35L5.41 20z\"/>\n",
              "  </svg>\n",
              "      </button>\n",
              "      \n",
              "  <style>\n",
              "    .colab-df-container {\n",
              "      display:flex;\n",
              "      flex-wrap:wrap;\n",
              "      gap: 12px;\n",
              "    }\n",
              "\n",
              "    .colab-df-convert {\n",
              "      background-color: #E8F0FE;\n",
              "      border: none;\n",
              "      border-radius: 50%;\n",
              "      cursor: pointer;\n",
              "      display: none;\n",
              "      fill: #1967D2;\n",
              "      height: 32px;\n",
              "      padding: 0 0 0 0;\n",
              "      width: 32px;\n",
              "    }\n",
              "\n",
              "    .colab-df-convert:hover {\n",
              "      background-color: #E2EBFA;\n",
              "      box-shadow: 0px 1px 2px rgba(60, 64, 67, 0.3), 0px 1px 3px 1px rgba(60, 64, 67, 0.15);\n",
              "      fill: #174EA6;\n",
              "    }\n",
              "\n",
              "    [theme=dark] .colab-df-convert {\n",
              "      background-color: #3B4455;\n",
              "      fill: #D2E3FC;\n",
              "    }\n",
              "\n",
              "    [theme=dark] .colab-df-convert:hover {\n",
              "      background-color: #434B5C;\n",
              "      box-shadow: 0px 1px 3px 1px rgba(0, 0, 0, 0.15);\n",
              "      filter: drop-shadow(0px 1px 2px rgba(0, 0, 0, 0.3));\n",
              "      fill: #FFFFFF;\n",
              "    }\n",
              "  </style>\n",
              "\n",
              "      <script>\n",
              "        const buttonEl =\n",
              "          document.querySelector('#df-cf83c702-358e-4035-aee8-4f9e8360c690 button.colab-df-convert');\n",
              "        buttonEl.style.display =\n",
              "          google.colab.kernel.accessAllowed ? 'block' : 'none';\n",
              "\n",
              "        async function convertToInteractive(key) {\n",
              "          const element = document.querySelector('#df-cf83c702-358e-4035-aee8-4f9e8360c690');\n",
              "          const dataTable =\n",
              "            await google.colab.kernel.invokeFunction('convertToInteractive',\n",
              "                                                     [key], {});\n",
              "          if (!dataTable) return;\n",
              "\n",
              "          const docLinkHtml = 'Like what you see? Visit the ' +\n",
              "            '<a target=\"_blank\" href=https://colab.research.google.com/notebooks/data_table.ipynb>data table notebook</a>'\n",
              "            + ' to learn more about interactive tables.';\n",
              "          element.innerHTML = '';\n",
              "          dataTable['output_type'] = 'display_data';\n",
              "          await google.colab.output.renderOutput(dataTable, element);\n",
              "          const docLink = document.createElement('div');\n",
              "          docLink.innerHTML = docLinkHtml;\n",
              "          element.appendChild(docLink);\n",
              "        }\n",
              "      </script>\n",
              "    </div>\n",
              "  </div>\n",
              "  "
            ]
          },
          "metadata": {},
          "execution_count": 3
        }
      ]
    },
    {
      "cell_type": "markdown",
      "source": [
        "Para eliminar la información geográfica, se consiguió un conjunto de datos extraido de: https://github.com/knowitall/chunkedextractor/blob/master/src/main/resources/edu/knowitall/chunkedextractor/demonyms.csv \n",
        "\n",
        "El conjunto contiene en total `2144` registros con `2` columnas, cada registro corresponde a un gentilicio y el país/estado del que proviene."
      ],
      "metadata": {
        "id": "_7grDTpa2zx9"
      }
    },
    {
      "cell_type": "code",
      "source": [
        "# Se carga los datos geográficos\n",
        "paises = pd.read_csv('demonyms.csv',header=None)\n",
        "# Se hace un pre procesamiento para que tenga el mismo formato que el texto.\n",
        "paises[0] = paises[0].apply(lambda x : x.lower())\n",
        "paises[1] = paises[1].apply(lambda x : x.lower())\n",
        "# Se hace una separación entre paises/estados y gentilicios\n",
        "paises_ = list(paises.iloc[:,0].values)\n",
        "gentilicios = list(paises.iloc[:,1].values)"
      ],
      "metadata": {
        "id": "7NJ4bVs2kdt_"
      },
      "execution_count": null,
      "outputs": []
    },
    {
      "cell_type": "markdown",
      "source": [
        "Además de la información geográfica, támbien es probable que se hable sobre fechas importantes en la vida de esta persona, de nuevo, esta información no ayuda a nuestro objetivo, asi que se decidió eliminarla:"
      ],
      "metadata": {
        "id": "OBipV0Yv5E3Y"
      }
    },
    {
      "cell_type": "code",
      "source": [
        "#Quitar meses\n",
        "palabras_no_deseadas = ['january','february','march','april','june','july','august','september','october','november','december','born',\n",
        "                        'united','year','state','city','international','university','second','later','world','work','works','best','known','high','professional','years','began','york','party']\n",
        "# Unimos todos nuestros diccionarios.\n",
        "palabras_no_deseadas += paises_\n",
        "palabras_no_deseadas += gentilicios"
      ],
      "metadata": {
        "id": "kg4FmLNMX9f-"
      },
      "execution_count": null,
      "outputs": []
    },
    {
      "cell_type": "markdown",
      "source": [
        "Como también es de esperarse en la descripción apareceran diferentes nombres y apellidos, incluyendo su propio nombre, sin embargo, esta información sigue sin servir para el nuestro próximo clasificador, así que vamos a intentar eliminar la mayoría de los nombres de la descripción, a partir del propio nombre. "
      ],
      "metadata": {
        "id": "5ygQt7S_5l3V"
      }
    },
    {
      "cell_type": "code",
      "source": [
        "#Eliminamos los nombres\n",
        "r_ = ['aka']\n",
        "\n",
        "# Vamos a generar un for que itere sobre cada registro\n",
        "for j in range(df.shape[0]):\n",
        "    # Extraemos el nombre\n",
        "    a = df.iloc[j,1].lower()\n",
        "    # Separamos y eliminamos carácteres especiales\n",
        "    result = re.sub(r'[^a-zA-Z ]','',a,0,re.MULTILINE).split()\n",
        "    result = [j for j in result if len(j) > 3]\n",
        "    # Eliminamos de la descripción.\n",
        "    for k in result:\n",
        "        df.iloc[j,2] = df.iloc[j,2].replace(k,'')"
      ],
      "metadata": {
        "id": "awAm1DaRsCKu"
      },
      "execution_count": null,
      "outputs": []
    },
    {
      "cell_type": "markdown",
      "source": [
        "Notemos que el procedimiento anterior, solo elimina el propio nombre y apellido de la descripción, que creemos es lo que más se repitiria, sin embargo, pueden existir otros nombres, como el de sus padres, hermanos, hijos o pareja. Estos nombres no los eliminaremos... es un riesgo que estamos dispuestos a correr."
      ],
      "metadata": {
        "id": "yrwp7l2u7Xk6"
      }
    },
    {
      "cell_type": "code",
      "source": [
        "#Quitamos los caracteres especiales, puntuación\n",
        "df['text'] = df['text'].str.replace('[^a-zA-Z#]',' ')\n",
        "df['text']"
      ],
      "metadata": {
        "colab": {
          "base_uri": "https://localhost:8080/"
        },
        "id": "OG-HXxC8oAvH",
        "outputId": "b8602930-6a33-4047-e24c-6585dd6a5f67"
      },
      "execution_count": null,
      "outputs": [
        {
          "output_type": "stream",
          "name": "stderr",
          "text": [
            "/usr/local/lib/python3.7/dist-packages/ipykernel_launcher.py:2: FutureWarning: The default value of regex will change from True to False in a future version.\n",
            "  \n"
          ]
        },
        {
          "output_type": "execute_result",
          "data": {
            "text/plain": [
              "0          born    october      is a former australian ...\n",
              "1         j  aka sandy  graduated from university of ch...\n",
              "2          is a singer and harmonica player who has bee...\n",
              "3          born in waidmannsfeld lower austria austria ...\n",
              "4        henry krvits born    december      in tallinn ...\n",
              "                               ...                        \n",
              "42781      born july        saitama prefecture is a jap...\n",
              "42782     graham      may      is a retired professiona...\n",
              "42783      lozano born   september      in cali is a co...\n",
              "42784     faberg is an author and faberg scholar from s...\n",
              "42785      born february         was chief financial of...\n",
              "Name: text, Length: 42786, dtype: object"
            ]
          },
          "metadata": {},
          "execution_count": 7
        }
      ]
    },
    {
      "cell_type": "code",
      "source": [
        "#Quitamos los espacios que se crearon\n",
        "for j in range(9,1,-1):\n",
        "    df['text'] = df['text'].str.replace(' '*j,' ')\n",
        "\n",
        "df['text']"
      ],
      "metadata": {
        "colab": {
          "base_uri": "https://localhost:8080/"
        },
        "id": "qq8FzKbdn2By",
        "outputId": "ba4ed30e-c4bd-4820-d77d-c1050abf0f4c"
      },
      "execution_count": null,
      "outputs": [
        {
          "output_type": "execute_result",
          "data": {
            "text/plain": [
              "0         born october is a former australian rules foo...\n",
              "1         j aka sandy graduated from university of chic...\n",
              "2         is a singer and harmonica player who has been...\n",
              "3         born in waidmannsfeld lower austria austria o...\n",
              "4        henry krvits born december in tallinn better k...\n",
              "                               ...                        \n",
              "42781     born july saitama prefecture is a japanese co...\n",
              "42782     graham may is a retired professional who is t...\n",
              "42783     lozano born september in cali is a colombian ...\n",
              "42784     faberg is an author and faberg scholar from s...\n",
              "42785     born february was chief financial officer of ...\n",
              "Name: text, Length: 42786, dtype: object"
            ]
          },
          "metadata": {},
          "execution_count": 8
        }
      ]
    },
    {
      "cell_type": "code",
      "source": [
        "#Quitamos las palabra con una longitud pequeña\n",
        "df['text'] = df['text'].apply(lambda x : ' '.join([w for w in x.split() if len(w) > 3]))\n",
        "df['text']"
      ],
      "metadata": {
        "colab": {
          "base_uri": "https://localhost:8080/"
        },
        "id": "9VRjh7m4pTHT",
        "outputId": "f5d3f2dd-1862-41f1-fd8d-f279d33c87c8"
      },
      "execution_count": null,
      "outputs": [
        {
          "output_type": "execute_result",
          "data": {
            "text/plain": [
              "0        born october former australian rules footballe...\n",
              "1        sandy graduated from university chicago after ...\n",
              "2        singer harmonica player been active canadas bl...\n",
              "3        born waidmannsfeld lower austria austria janua...\n",
              "4        henry krvits born december tallinn better know...\n",
              "                               ...                        \n",
              "42781    born july saitama prefecture japanese composer...\n",
              "42782    graham retired professional seventh oldest pla...\n",
              "42783    lozano born september cali colombian football ...\n",
              "42784    faberg author faberg scholar from switzerlanda...\n",
              "42785    born february chief financial officer united s...\n",
              "Name: text, Length: 42786, dtype: object"
            ]
          },
          "metadata": {},
          "execution_count": 9
        }
      ]
    },
    {
      "cell_type": "code",
      "source": [
        "#Pasamos todo el texto a minusculas\n",
        "df['text'] = df['text'].apply(lambda x: x.lower())\n",
        "df['text']"
      ],
      "metadata": {
        "colab": {
          "base_uri": "https://localhost:8080/"
        },
        "id": "oy15p3SsqS83",
        "outputId": "c46290e5-0fd5-4374-f6d4-6b97ce12cb26"
      },
      "execution_count": null,
      "outputs": [
        {
          "output_type": "execute_result",
          "data": {
            "text/plain": [
              "0        born october former australian rules footballe...\n",
              "1        sandy graduated from university chicago after ...\n",
              "2        singer harmonica player been active canadas bl...\n",
              "3        born waidmannsfeld lower austria austria janua...\n",
              "4        henry krvits born december tallinn better know...\n",
              "                               ...                        \n",
              "42781    born july saitama prefecture japanese composer...\n",
              "42782    graham retired professional seventh oldest pla...\n",
              "42783    lozano born september cali colombian football ...\n",
              "42784    faberg author faberg scholar from switzerlanda...\n",
              "42785    born february chief financial officer united s...\n",
              "Name: text, Length: 42786, dtype: object"
            ]
          },
          "metadata": {},
          "execution_count": 10
        }
      ]
    },
    {
      "cell_type": "markdown",
      "source": [
        "#Preprocesamiento"
      ],
      "metadata": {
        "id": "BfXafWxuH4Ma"
      }
    },
    {
      "cell_type": "code",
      "source": [
        "#Recopilamos todos los conjuntos de palabras que se han decidido eliminar en la sección anterior\n",
        "stop_words += palabras_no_deseadas\n",
        "stop_words = set(stop_words)"
      ],
      "metadata": {
        "id": "ljalzMBPjmNd"
      },
      "execution_count": null,
      "outputs": []
    },
    {
      "cell_type": "code",
      "source": [
        "import nltk\n",
        "nltk.download('omw-1.4')\n",
        "nltk.download(['punkt','averaged_perceptron_tagger','wordnet'])\n",
        "\n",
        "from nltk.stem import WordNetLemmatizer\n",
        "from nltk import word_tokenize, pos_tag\n",
        "from nltk.corpus import wordnet\n",
        "from nltk.corpus.reader.wordnet import NOUN, VERB, ADV, ADJ\n",
        "\n",
        "morphy_tag = {\n",
        "    'JJ' : ADJ,\n",
        "    'JJR' : ADJ,\n",
        "    'JJS' : ADJ,\n",
        "    'VB' : VERB,\n",
        "    'VBD' : VERB,\n",
        "    'VBG' : VERB,\n",
        "    'VBN' : VERB,\n",
        "    'VBP' : VERB,\n",
        "    'VBZ' : VERB,\n",
        "    'RB' : ADV,\n",
        "    'RBR' : ADV,\n",
        "    'RBS' : ADV\n",
        "}\n"
      ],
      "metadata": {
        "colab": {
          "base_uri": "https://localhost:8080/"
        },
        "id": "1Fx8KXMw6Yz7",
        "outputId": "be48376e-3223-4c66-c049-b707b249f1ea"
      },
      "execution_count": null,
      "outputs": [
        {
          "output_type": "stream",
          "name": "stderr",
          "text": [
            "[nltk_data] Downloading package omw-1.4 to /root/nltk_data...\n",
            "[nltk_data] Downloading package punkt to /root/nltk_data...\n",
            "[nltk_data]   Unzipping tokenizers/punkt.zip.\n",
            "[nltk_data] Downloading package averaged_perceptron_tagger to\n",
            "[nltk_data]     /root/nltk_data...\n",
            "[nltk_data]   Unzipping taggers/averaged_perceptron_tagger.zip.\n",
            "[nltk_data] Downloading package wordnet to /root/nltk_data...\n"
          ]
        }
      ]
    },
    {
      "cell_type": "code",
      "source": [
        "#Usando una función lambda en un apply tokenizaremos todas las descripciones de nuestro DataFrame, esto es, separar cada palabra del texto como un token\n",
        "tokenized_doc = df['text'].apply(lambda x: x.split())\n",
        "\n",
        "#Filtramos nuestros resultados tokenizados quedandonos con aquellos que no pertenecen a las stop-words y palabras no deseadas\n",
        "tokenized_doc = tokenized_doc.apply(lambda x: [item for item in x if item not in stop_words])\n",
        "\n",
        "tokens_ = []\n",
        "\n",
        "#Utilizamos pos_tag() para etiquetar todos los tokens dde acuerdo a la morphología que poseen. Esto como tuplas de la forma (token, tag=Sustantivo,verbo,etc)\n",
        "for i in tokenized_doc:\n",
        "  tagged = pos_tag(i)\n",
        "  #Preparamos el método para lematizar basado en el Synset de WordNet, y regresamos la lista de tokens vueltos lemas por documento\n",
        "  lemmatizer = WordNetLemmatizer()\n",
        "  tokens = []\n",
        "  for p,t in tagged:\n",
        "    tokens.append(lemmatizer.lemmatize(p, pos=morphy_tag.get(t, NOUN)))\n",
        "  tokens_.append(tokens)\n",
        "\n",
        "#Unimos los tokens sin stopwords y lematizados por documentos y lo guardamos en la columna de texto de nuestro DataFrame\n",
        "detokenized_doc = []\n",
        "\n",
        "for i in range(len(df)):\n",
        "    t = ' '.join(tokens_[i])\n",
        "    detokenized_doc.append(t)\n",
        "df['text'] = detokenized_doc\n",
        "\n",
        "\n",
        "#Palabras sin lematizar\n",
        "detokenized_doc = []\n",
        "\n",
        "for i in range(len(df)):\n",
        "    t = ' '.join(tokenized_doc[i])\n",
        "    detokenized_doc.append(t)\n",
        "df['text2'] = detokenized_doc"
      ],
      "metadata": {
        "id": "t07rz1MgrKrS"
      },
      "execution_count": null,
      "outputs": []
    },
    {
      "cell_type": "markdown",
      "source": [
        "A continuación debemos aplicar el método *TfidVectorizer*, que basado en la teoría de TF-IDF, recibe una colección de documentos y nos devuelve una matriz de las características obtenidas después de TF-IDF"
      ],
      "metadata": {
        "id": "dH94SvgOT6G7"
      }
    },
    {
      "cell_type": "code",
      "source": [
        "#LEMATIZADO\n",
        "vectorizer = TfidfVectorizer(stop_words='english', \n",
        "                            max_features= 500, # máximo número de términos\n",
        "                            max_df = 0.95,\n",
        "                            min_df = 0.05,  \n",
        "                            smooth_idf=True)\n",
        "\n",
        "X = vectorizer.fit_transform(df['text'])\n",
        "print(\"Tamaño de la matriz TF-IDF con lematización: \", X.shape) # visualizamos el tamaño de la matriz\n",
        "\n",
        "\n",
        "#SIN LEMATIZAR\n",
        "vectorizer2 = TfidfVectorizer(stop_words='english', \n",
        "                            max_features= 500, # máximo número de términos\n",
        "                            max_df = 0.95,\n",
        "                            min_df = 0.05,  \n",
        "                            smooth_idf=True)\n",
        "\n",
        "X2 = vectorizer2.fit_transform(df['text2'])\n",
        "print(\"Tamaño de la matriz TF-IDF sin lematización: \", X2.shape) # visualizamos el tamaño de la matriz"
      ],
      "metadata": {
        "colab": {
          "base_uri": "https://localhost:8080/"
        },
        "id": "HreDJ49tyAmV",
        "outputId": "d15cb396-4dcf-4b18-d300-a18c8368be29"
      },
      "execution_count": null,
      "outputs": [
        {
          "output_type": "stream",
          "name": "stdout",
          "text": [
            "Tamaño de la matriz TF-IDF con lematización:  (42786, 310)\n",
            "Tamaño de la matriz TF-IDF sin lematización:  (42786, 275)\n"
          ]
        }
      ]
    },
    {
      "cell_type": "code",
      "source": [
        "## Visualizando los términos obtenidos con TfidfVectorizer\n",
        "terminos = vectorizer.get_feature_names_out()\n",
        "print(\"Total de términos:\", len(terminos))"
      ],
      "metadata": {
        "colab": {
          "base_uri": "https://localhost:8080/"
        },
        "id": "qvA3b4jqynu_",
        "outputId": "ff68fe7d-712b-4c92-9793-ac8151b8ba5c"
      },
      "execution_count": null,
      "outputs": [
        {
          "output_type": "stream",
          "name": "stdout",
          "text": [
            "Total de términos: 310\n"
          ]
        }
      ]
    },
    {
      "cell_type": "code",
      "source": [
        "terminos2 = vectorizer2.get_feature_names_out()\n",
        "print(\"Total de términos:\", len(terminos2))"
      ],
      "metadata": {
        "id": "9rL9kp_EeM98",
        "colab": {
          "base_uri": "https://localhost:8080/"
        },
        "outputId": "e1571f86-462d-4e72-8114-0b38fe228c9c"
      },
      "execution_count": null,
      "outputs": [
        {
          "output_type": "stream",
          "name": "stdout",
          "text": [
            "Total de términos: 275\n"
          ]
        }
      ]
    },
    {
      "cell_type": "code",
      "source": [
        "print(\"Lista de términos:\", terminos)"
      ],
      "metadata": {
        "id": "640veLL9eTQW",
        "colab": {
          "base_uri": "https://localhost:8080/"
        },
        "outputId": "c6f13873-4a0a-4c67-ba0f-74ae6c85bf4e"
      },
      "execution_count": null,
      "outputs": [
        {
          "output_type": "stream",
          "name": "stdout",
          "text": [
            "Lista de términos: ['academy' 'act' 'active' 'actor' 'addition' 'affair' 'album' 'america'\n",
            " 'announce' 'appear' 'appearance' 'appoint' 'area' 'art' 'article'\n",
            " 'artist' 'assistant' 'associate' 'association' 'attend' 'author' 'award'\n",
            " 'bachelor' 'band' 'base' 'board' 'book' 'break' 'bring' 'brother'\n",
            " 'business' 'campaign' 'candidate' 'career' 'center' 'central' 'centre'\n",
            " 'chair' 'chairman' 'champion' 'championship' 'change' 'chief' 'child'\n",
            " 'class' 'club' 'coach' 'collection' 'college' 'come' 'commission'\n",
            " 'committee' 'community' 'company' 'competition' 'complete' 'conference'\n",
            " 'continue' 'council' 'country' 'county' 'court' 'cover' 'create' 'credit'\n",
            " 'current' 'currently' 'daughter' 'david' 'debut' 'defeat' 'degree'\n",
            " 'department' 'deputy' 'design' 'develop' 'development' 'direct'\n",
            " 'director' 'district' 'division' 'early' 'earn' 'east' 'editor'\n",
            " 'education' 'elect' 'election' 'enter' 'establish' 'event' 'executive'\n",
            " 'experience' 'fame' 'family' 'father' 'feature' 'fellow' 'festival'\n",
            " 'field' 'film' 'final' 'finish' 'focus' 'follow' 'football' 'force'\n",
            " 'form' 'foundation' 'founder' 'free' 'game' 'general' 'george' 'good'\n",
            " 'government' 'graduate' 'great' 'group' 'grow' 'hall' 'head' 'health'\n",
            " 'help' 'history' 'hold' 'home' 'honor' 'host' 'house' 'human' 'include'\n",
            " 'independent' 'industry' 'institute' 'involve' 'issue' 'james' 'john'\n",
            " 'join' 'journal' 'large' 'late' 'lead' 'leader' 'league' 'leave' 'life'\n",
            " 'like' 'list' 'live' 'local' 'long' 'lose' 'love' 'magazine' 'major'\n",
            " 'make' 'manage' 'management' 'manager' 'mark' 'marry' 'master' 'medal'\n",
            " 'member' 'michael' 'million' 'minister' 'month' 'mother' 'music'\n",
            " 'musical' 'musician' 'nation' 'national' 'network' 'news' 'north'\n",
            " 'number' 'numerous' 'office' 'officer' 'official' 'open' 'order'\n",
            " 'organization' 'original' 'participate' 'paul' 'people' 'perform'\n",
            " 'performance' 'period' 'place' 'play' 'player' 'point' 'policy'\n",
            " 'political' 'politician' 'popular' 'position' 'post' 'practice' 'present'\n",
            " 'president' 'press' 'previously' 'prior' 'prize' 'produce' 'producer'\n",
            " 'production' 'professor' 'program' 'project' 'promote' 'provide' 'public'\n",
            " 'publication' 'publish' 'radio' 'raise' 'receive' 'recent' 'recently'\n",
            " 'record' 'regular' 'release' 'remain' 'report' 'represent' 'research'\n",
            " 'result' 'retire' 'return' 'review' 'right' 'robert' 'rock' 'role'\n",
            " 'round' 'royal' 'run' 'say' 'school' 'science' 'score' 'season'\n",
            " 'secretary' 'select' 'senior' 'series' 'serve' 'service' 'seven' 'short'\n",
            " 'sign' 'singer' 'single' 'social' 'society' 'solo' 'song' 'south'\n",
            " 'special' 'spend' 'sport' 'stage' 'star' 'start' 'state' 'story'\n",
            " 'student' 'studio' 'study' 'style' 'subsequently' 'success' 'successful'\n",
            " 'summer' 'support' 'teach' 'teacher' 'team' 'technology' 'television'\n",
            " 'term' 'theatre' 'time' 'title' 'tour' 'train' 'turn' 'union' 'use'\n",
            " 'various' 'video' 'vote' 'week' 'west' 'wife' 'win' 'woman' 'work'\n",
            " 'write' 'writer' 'young' 'youth']\n"
          ]
        }
      ]
    },
    {
      "cell_type": "code",
      "source": [
        "print(\"Lista de términos:\", terminos2)"
      ],
      "metadata": {
        "colab": {
          "base_uri": "https://localhost:8080/"
        },
        "id": "HexgF0O4yqkC",
        "outputId": "0201af6b-83b2-4862-bbc6-e985621a5fc3"
      },
      "execution_count": null,
      "outputs": [
        {
          "output_type": "stream",
          "name": "stdout",
          "text": [
            "Lista de términos: ['academy' 'active' 'actor' 'addition' 'affairs' 'album' 'america'\n",
            " 'announced' 'appearances' 'appeared' 'appointed' 'area' 'articles'\n",
            " 'artist' 'artists' 'arts' 'assistant' 'association' 'attended' 'author'\n",
            " 'award' 'awarded' 'awards' 'band' 'based' 'board' 'book' 'books'\n",
            " 'business' 'called' 'came' 'career' 'center' 'central' 'chair' 'chairman'\n",
            " 'championship' 'chief' 'children' 'club' 'coach' 'college' 'commission'\n",
            " 'committee' 'community' 'company' 'competition' 'continued' 'council'\n",
            " 'country' 'county' 'court' 'created' 'current' 'currently' 'david'\n",
            " 'debut' 'degree' 'department' 'deputy' 'development' 'directed'\n",
            " 'director' 'district' 'division' 'early' 'earned' 'east' 'editor'\n",
            " 'education' 'elected' 'election' 'executive' 'family' 'father' 'featured'\n",
            " 'fellow' 'festival' 'field' 'film' 'films' 'final' 'finished' 'followed'\n",
            " 'following' 'football' 'foundation' 'founded' 'founder' 'free' 'game'\n",
            " 'games' 'general' 'george' 'given' 'government' 'graduate' 'graduated'\n",
            " 'great' 'grew' 'group' 'hall' 'head' 'health' 'held' 'helped' 'history'\n",
            " 'holds' 'home' 'house' 'human' 'include' 'included' 'including'\n",
            " 'independent' 'industry' 'institute' 'involved' 'issues' 'james' 'john'\n",
            " 'joined' 'late' 'lead' 'leader' 'leading' 'league' 'left' 'life' 'like'\n",
            " 'live' 'lives' 'local' 'long' 'lost' 'love' 'magazine' 'major' 'make'\n",
            " 'making' 'management' 'manager' 'married' 'masters' 'medal' 'member'\n",
            " 'members' 'michael' 'minister' 'moved' 'music' 'musical' 'named'\n",
            " 'national' 'news' 'nominated' 'north' 'number' 'numerous' 'office'\n",
            " 'officer' 'order' 'organization' 'original' 'paul' 'people' 'performance'\n",
            " 'performed' 'place' 'play' 'played' 'player' 'playing' 'plays'\n",
            " 'political' 'politician' 'popular' 'position' 'post' 'president' 'press'\n",
            " 'previously' 'prior' 'prize' 'produced' 'producer' 'production'\n",
            " 'professor' 'program' 'project' 'projects' 'public' 'published' 'radio'\n",
            " 'received' 'recent' 'recently' 'record' 'recorded' 'recording' 'records'\n",
            " 'regular' 'released' 'represented' 'research' 'retired' 'returned'\n",
            " 'robert' 'rock' 'role' 'round' 'royal' 'said' 'school' 'science' 'season'\n",
            " 'seasons' 'secretary' 'selected' 'senior' 'series' 'served' 'service'\n",
            " 'serving' 'seven' 'short' 'shows' 'signed' 'singer' 'single' 'social'\n",
            " 'society' 'solo' 'song' 'songs' 'south' 'special' 'spent' 'stage' 'star'\n",
            " 'started' 'states' 'story' 'studied' 'studies' 'study' 'subsequently'\n",
            " 'success' 'successful' 'summer' 'taught' 'team' 'technology' 'television'\n",
            " 'time' 'times' 'title' 'took' 'tour' 'training' 'union' 'used' 'various'\n",
            " 'went' 'west' 'wife' 'winning' 'worked' 'working' 'writer' 'writing'\n",
            " 'written' 'wrote' 'young' 'youth']\n"
          ]
        }
      ]
    },
    {
      "cell_type": "markdown",
      "source": [
        "# Modelo\n"
      ],
      "metadata": {
        "id": "eVS1P98MtEYj"
      }
    },
    {
      "cell_type": "code",
      "source": [
        "#LEMATIZADO\n",
        "fsvd_model = TruncatedSVD(n_components=10, #Indicamos la cantidad de topicos que deseamos tener\n",
        "                         algorithm='randomized', #Indicamos el tipo de algoritmo para svd\n",
        "                         n_iter=100, random_state=122) #Indicamos iteraciones y semilla\n",
        "fsvd_model.fit_transform(X)\n",
        "\n",
        "#SIN LEMATIZAR\n",
        "fsvd_model2 = TruncatedSVD(n_components=10, \n",
        "                         algorithm='randomized', \n",
        "                         n_iter=100, random_state=122)\n",
        "fsvd_model2.fit_transform(X2)"
      ],
      "metadata": {
        "colab": {
          "base_uri": "https://localhost:8080/"
        },
        "id": "znru2Ohyreay",
        "outputId": "e175c6c1-8419-4f25-caac-e7afb67e2d5a"
      },
      "execution_count": null,
      "outputs": [
        {
          "output_type": "execute_result",
          "data": {
            "text/plain": [
              "array([[ 0.30180117,  0.4973053 , -0.11185749, ...,  0.05653   ,\n",
              "         0.00543134,  0.27807039],\n",
              "       [ 0.24232059, -0.15880293, -0.14381058, ..., -0.2193195 ,\n",
              "         0.05738457, -0.16999582],\n",
              "       [ 0.28148771,  0.03036603,  0.22903772, ..., -0.25362539,\n",
              "        -0.00371894,  0.09007563],\n",
              "       ...,\n",
              "       [ 0.23817328,  0.28896456, -0.09407496, ..., -0.07958315,\n",
              "         0.09649752,  0.15235839],\n",
              "       [ 0.2391853 , -0.09877226, -0.07581994, ...,  0.0494692 ,\n",
              "         0.0572227 ,  0.03783521],\n",
              "       [ 0.24707717, -0.03600044, -0.09450009, ...,  0.00889003,\n",
              "        -0.17778548,  0.05623482]])"
            ]
          },
          "metadata": {},
          "execution_count": 19
        }
      ]
    },
    {
      "cell_type": "code",
      "source": [
        "def plot_top_words(model, feature_names, n_top_words, title,titles):\n",
        "    fig, axes = plt.subplots(4, 3, figsize=(30, 15), sharex=True)\n",
        "    axes = axes.flatten()\n",
        "    \n",
        "    if title == \"TruncatedSVD\":\n",
        "      model = model.components_ # components_ es la matriz VT\n",
        "    else:\n",
        "      model = model\n",
        "    for topic_idx, topic in enumerate(model):\n",
        "       \n",
        "        top_features_ind = topic.argsort()[: -n_top_words - 1 : -1] #Returns the indices that sort a tensor along a given dimension in ascending order by value.\n",
        "        #print(\"top_features_ind:\",top_features_ind)\n",
        "        \n",
        "        top_features = [feature_names[i] for i in top_features_ind] #devuelve la palabra basada en el índice\n",
        "        #print(\"top_features:\",top_features)\n",
        "        \n",
        "        weights = topic[top_features_ind]\n",
        "        #print(\"weights:\",len(weights))\n",
        "\n",
        "        ax = axes[topic_idx]\n",
        "        ax.barh(top_features, weights, height=0.7)\n",
        "        #ax.set_title(f\"Topico: {dataset.target_names[topic_idx]} \", fontdict={\"fontsize\": 20}) #{topic_idx +1}\n",
        "        ax.invert_yaxis()\n",
        "        ax.tick_params(axis=\"both\", which=\"major\", labelsize=10)\n",
        "        ax.set_title(titles[topic_idx])\n",
        "\n",
        "    plt.subplots_adjust(top=0.90, bottom=0.05, wspace=0.70, hspace=0.3)"
      ],
      "metadata": {
        "id": "7g5fA7e8pZuv"
      },
      "execution_count": null,
      "outputs": []
    },
    {
      "cell_type": "code",
      "source": [
        "#Palabras mas importantes del modelo lematizado\n",
        "\n",
        "#Asignamos el nombre de los topicos de acuerdo a los resultados vistos\n",
        "topicos = ['????','Deportes 1','Musica','Peliculas o Televisión','Televisión','Deportes 2','Escritores o Periodistas','Compositores','Politica','Deportes 3']\n",
        "\n",
        "#Mostramos las graficas\n",
        "print(\"--- Visualizando tópicos con TruncatedSVD ---\")\n",
        "plot_top_words(fsvd_model, terminos, 10, \"TruncatedSVD\",topicos)"
      ],
      "metadata": {
        "colab": {
          "base_uri": "https://localhost:8080/",
          "height": 684
        },
        "id": "jgcCSCP_qceS",
        "outputId": "e574e569-8be4-480f-fa5a-a0e5766e6afe"
      },
      "execution_count": null,
      "outputs": [
        {
          "output_type": "stream",
          "name": "stdout",
          "text": [
            "--- Visualizando tópicos con TruncatedSVD ---\n"
          ]
        },
        {
          "output_type": "display_data",
          "data": {
            "text/plain": [
              "<Figure size 2160x1080 with 12 Axes>"
            ],
            "image/png": "[encoded data removed]"
          },
          "metadata": {
            "needs_background": "light"
          }
        }
      ]
    },
    {
      "cell_type": "code",
      "source": [
        "#Palabras mas importantes del modelo sin lematizar\n",
        "\n",
        "#Mostramos las graficas\n",
        "print(\"--- Visualizando tópicos con TruncatedSVD ---\")\n",
        "plot_top_words(fsvd_model2, terminos, 10, \"TruncatedSVD\",topicos)"
      ],
      "metadata": {
        "colab": {
          "base_uri": "https://localhost:8080/",
          "height": 684
        },
        "id": "Ld2KP01o3iQk",
        "outputId": "6bdaf2b1-00a4-4605-c833-78195960f702"
      },
      "execution_count": null,
      "outputs": [
        {
          "output_type": "stream",
          "name": "stdout",
          "text": [
            "--- Visualizando tópicos con TruncatedSVD ---\n"
          ]
        },
        {
          "output_type": "display_data",
          "data": {
            "text/plain": [
              "<Figure size 2160x1080 with 12 Axes>"
            ],
            "image/png": "[encoded data removed]"
          },
          "metadata": {
            "needs_background": "light"
          }
        }
      ]
    },
    {
      "cell_type": "markdown",
      "source": [
        "# Clasificación"
      ],
      "metadata": {
        "id": "dF9JaNNB3lOf"
      }
    },
    {
      "cell_type": "markdown",
      "source": [
        "Una vez identificados los principales tópicos, ahora se desea clasificar a cada documento en alguno de los temas previos. "
      ],
      "metadata": {
        "id": "WcywldbkkUc3"
      }
    },
    {
      "cell_type": "markdown",
      "source": [
        "Para lo anterior primeramente se necesita una matriz que almacene el peso de las palabras por los temas. Pero, justo esa matriz buscada es $V^T$ de la descomposición SVD. (En la imagen se muestra $V$)\n",
        "\n",
        "<figure>\n",
        "<center>\n",
        "<img src='https://raw.githubusercontent.com/huguito-rangel/mi_primer_repo/master/Imagen1.png' height=\"300\" />\n",
        "</center>\n",
        "</figure>"
      ],
      "metadata": {
        "id": "AwtnkYGzuVVh"
      }
    },
    {
      "cell_type": "code",
      "source": [
        "# Tomamos VT, que tiene los pesos para cada tópico:\n",
        "\n",
        "from sklearn.utils.extmath import randomized_svd\n",
        "U, Sigma, VT = randomized_svd(X, \n",
        "                              n_components=10, #Dimensionalidad deseada de los datos de salida.\n",
        "                              n_iter=100,\n",
        "                              random_state=122)\n",
        "VT.shape"
      ],
      "metadata": {
        "id": "RIVGf02sKJeo",
        "colab": {
          "base_uri": "https://localhost:8080/"
        },
        "outputId": "dc0fe852-b327-4e21-f512-39640c0ec75a"
      },
      "execution_count": null,
      "outputs": [
        {
          "output_type": "execute_result",
          "data": {
            "text/plain": [
              "(10, 310)"
            ]
          },
          "metadata": {},
          "execution_count": 23
        }
      ]
    },
    {
      "cell_type": "markdown",
      "source": [
        "Después se necesita una matriz que contenga la información de ocurrencia de las palabras en cada documento. Será calculada con `CountVectorizer` del módulo de `sklearn`\n",
        "\n",
        "<figure>\n",
        "<center>\n",
        "<img src='https://raw.githubusercontent.com/huguito-rangel/mi_primer_repo/master/Imagen2.png' height=\"300\" />\n",
        "</center>\n",
        "</figure>\n",
        "\n"
      ],
      "metadata": {
        "id": "ZOgOcoWy0WpD"
      }
    },
    {
      "cell_type": "code",
      "source": [
        "from sklearn.feature_extraction.text import CountVectorizer\n",
        "\n",
        "vectorizer = CountVectorizer(vocabulary=terminos, min_df=0,\n",
        "                             token_pattern=r\"(?u)\\b\\w+\\b\", binary=False)\n",
        "X = vectorizer.fit_transform(df['text'].values)\n",
        "result = pd.DataFrame(data=X.toarray(), columns=vectorizer.get_feature_names())\n",
        "result = result.values\n",
        "result.shape"
      ],
      "metadata": {
        "colab": {
          "base_uri": "https://localhost:8080/"
        },
        "id": "ny0QznHTMyGc",
        "outputId": "53131daf-93b8-4144-c784-12feae1a90cf"
      },
      "execution_count": null,
      "outputs": [
        {
          "output_type": "stream",
          "name": "stderr",
          "text": [
            "/usr/local/lib/python3.7/dist-packages/sklearn/utils/deprecation.py:87: FutureWarning: Function get_feature_names is deprecated; get_feature_names is deprecated in 1.0 and will be removed in 1.2. Please use get_feature_names_out instead.\n",
            "  warnings.warn(msg, category=FutureWarning)\n"
          ]
        },
        {
          "output_type": "execute_result",
          "data": {
            "text/plain": [
              "(42786, 310)"
            ]
          },
          "metadata": {},
          "execution_count": 24
        }
      ]
    },
    {
      "cell_type": "markdown",
      "source": [
        "El siguiente paso es multiplicar las dos matrices anteriores y obtener como resultado una matriz que indique la importancia de cada documento por tema.\n",
        "\n",
        "<figure>\n",
        "<center>\n",
        "<img src='https://raw.githubusercontent.com/huguito-rangel/mi_primer_repo/master/Imagen4.png' height=\"180\" />\n",
        "</center>\n",
        "</figure>"
      ],
      "metadata": {
        "id": "7CivrfYv0We8"
      }
    },
    {
      "cell_type": "code",
      "source": [
        "Matriz_item = result @ VT.T\n",
        "Matriz_item.shape"
      ],
      "metadata": {
        "id": "S2eJrOQYPtVd",
        "colab": {
          "base_uri": "https://localhost:8080/"
        },
        "outputId": "45fab124-9491-47b5-b1cc-7f17b73b32ec"
      },
      "execution_count": null,
      "outputs": [
        {
          "output_type": "execute_result",
          "data": {
            "text/plain": [
              "(42786, 10)"
            ]
          },
          "metadata": {},
          "execution_count": 25
        }
      ]
    },
    {
      "cell_type": "markdown",
      "source": [
        "Finalmente se elige la puntuación más alta y se clasifica en ese grupo.\n",
        "<figure>\n",
        "<center>\n",
        "<img src='https://raw.githubusercontent.com/huguito-rangel/mi_primer_repo/master/Imagen3.png' height=\"200\" />\n",
        "</center>\n",
        "</figure>"
      ],
      "metadata": {
        "id": "WN8o6VKA0WTv"
      }
    },
    {
      "cell_type": "code",
      "source": [
        "df['Class'] = Matriz_item.argmax(axis = 1)"
      ],
      "metadata": {
        "id": "zB1LPZBAQH31"
      },
      "execution_count": null,
      "outputs": []
    },
    {
      "cell_type": "markdown",
      "source": [
        "Ahora desplegaremos los resultados que hemos obtenido para 3 clases: Deportes3, Política y Compositores"
      ],
      "metadata": {
        "id": "B5-gxsQD-UZx"
      }
    },
    {
      "cell_type": "code",
      "source": [
        "# Visualiza los que se clasificaron en Deportes3\n",
        "df[df['Class'] == 9][['name', 'text']]"
      ],
      "metadata": {
        "colab": {
          "base_uri": "https://localhost:8080/",
          "height": 424
        },
        "id": "Rtz8R1rQR5zj",
        "outputId": "6eb1ffac-ce02-4e3d-d7d3-ea472383108f"
      },
      "execution_count": null,
      "outputs": [
        {
          "output_type": "execute_result",
          "data": {
            "text/plain": [
              "                                  name  \\\n",
              "114                        Al Hairston   \n",
              "472    Randy Brown (American football)   \n",
              "879                      John Ellinger   \n",
              "994                       Larry Dippel   \n",
              "1218                        Bo Overton   \n",
              "...                                ...   \n",
              "42223                     Bret Ingalls   \n",
              "42299                  Vitaliy Cherniy   \n",
              "42321                       Randy Rahe   \n",
              "42568            George Graham (rugby)   \n",
              "42724               Jos%C3%A9 Higueras   \n",
              "\n",
              "                                                    text  \n",
              "114    alan leroy former basketball player college sc...  \n",
              "472    national league kick coach raven raven super b...  \n",
              "879    former soccer coach state mens national soccer...  \n",
              "994    wellknown former football coach small farm com...  \n",
              "1218   basketball coach currently coach woman basketb...  \n",
              "...                                                  ...  \n",
              "42223  current offensive line coach orleans saint coa...  \n",
              "42299  basketball coach former player today coach kyi...  \n",
              "42321  college basketball coach current head men bask...  \n",
              "42568  stirling former league union footballer role p...  \n",
              "42724  diezma tennis coach former tennis player spain...  \n",
              "\n",
              "[428 rows x 2 columns]"
            ],
            "text/html": [
              "\n",
              "  <div id=\"df-625f0971-efbf-4759-8e82-f96e1eef5e57\">\n",
              "    <div class=\"colab-df-container\">\n",
              "      <div>\n",
              "<style scoped>\n",
              "    .dataframe tbody tr th:only-of-type {\n",
              "        vertical-align: middle;\n",
              "    }\n",
              "\n",
              "    .dataframe tbody tr th {\n",
              "        vertical-align: top;\n",
              "    }\n",
              "\n",
              "    .dataframe thead th {\n",
              "        text-align: right;\n",
              "    }\n",
              "</style>\n",
              "<table border=\"1\" class=\"dataframe\">\n",
              "  <thead>\n",
              "    <tr style=\"text-align: right;\">\n",
              "      <th></th>\n",
              "      <th>name</th>\n",
              "      <th>text</th>\n",
              "    </tr>\n",
              "  </thead>\n",
              "  <tbody>\n",
              "    <tr>\n",
              "      <th>114</th>\n",
              "      <td>Al Hairston</td>\n",
              "      <td>alan leroy former basketball player college sc...</td>\n",
              "    </tr>\n",
              "    <tr>\n",
              "      <th>472</th>\n",
              "      <td>Randy Brown (American football)</td>\n",
              "      <td>national league kick coach raven raven super b...</td>\n",
              "    </tr>\n",
              "    <tr>\n",
              "      <th>879</th>\n",
              "      <td>John Ellinger</td>\n",
              "      <td>former soccer coach state mens national soccer...</td>\n",
              "    </tr>\n",
              "    <tr>\n",
              "      <th>994</th>\n",
              "      <td>Larry Dippel</td>\n",
              "      <td>wellknown former football coach small farm com...</td>\n",
              "    </tr>\n",
              "    <tr>\n",
              "      <th>1218</th>\n",
              "      <td>Bo Overton</td>\n",
              "      <td>basketball coach currently coach woman basketb...</td>\n",
              "    </tr>\n",
              "    <tr>\n",
              "      <th>...</th>\n",
              "      <td>...</td>\n",
              "      <td>...</td>\n",
              "    </tr>\n",
              "    <tr>\n",
              "      <th>42223</th>\n",
              "      <td>Bret Ingalls</td>\n",
              "      <td>current offensive line coach orleans saint coa...</td>\n",
              "    </tr>\n",
              "    <tr>\n",
              "      <th>42299</th>\n",
              "      <td>Vitaliy Cherniy</td>\n",
              "      <td>basketball coach former player today coach kyi...</td>\n",
              "    </tr>\n",
              "    <tr>\n",
              "      <th>42321</th>\n",
              "      <td>Randy Rahe</td>\n",
              "      <td>college basketball coach current head men bask...</td>\n",
              "    </tr>\n",
              "    <tr>\n",
              "      <th>42568</th>\n",
              "      <td>George Graham (rugby)</td>\n",
              "      <td>stirling former league union footballer role p...</td>\n",
              "    </tr>\n",
              "    <tr>\n",
              "      <th>42724</th>\n",
              "      <td>Jos%C3%A9 Higueras</td>\n",
              "      <td>diezma tennis coach former tennis player spain...</td>\n",
              "    </tr>\n",
              "  </tbody>\n",
              "</table>\n",
              "<p>428 rows × 2 columns</p>\n",
              "</div>\n",
              "      <button class=\"colab-df-convert\" onclick=\"convertToInteractive('df-625f0971-efbf-4759-8e82-f96e1eef5e57')\"\n",
              "              title=\"Convert this dataframe to an interactive table.\"\n",
              "              style=\"display:none;\">\n",
              "        \n",
              "  <svg xmlns=\"http://www.w3.org/2000/svg\" height=\"24px\"viewBox=\"0 0 24 24\"\n",
              "       width=\"24px\">\n",
              "    <path d=\"M0 0h24v24H0V0z\" fill=\"none\"/>\n",
              "    <path d=\"M18.56 5.44l.94 2.06.94-2.06 2.06-.94-2.06-.94-.94-2.06-.94 2.06-2.06.94zm-11 1L8.5 8.5l.94-2.06 2.06-.94-2.06-.94L8.5 2.5l-.94 2.06-2.06.94zm10 10l.94 2.06.94-2.06 2.06-.94-2.06-.94-.94-2.06-.94 2.06-2.06.94z\"/><path d=\"M17.41 7.96l-1.37-1.37c-.4-.4-.92-.59-1.43-.59-.52 0-1.04.2-1.43.59L10.3 9.45l-7.72 7.72c-.78.78-.78 2.05 0 2.83L4 21.41c.39.39.9.59 1.41.59.51 0 1.02-.2 1.41-.59l7.78-7.78 2.81-2.81c.8-.78.8-2.07 0-2.86zM5.41 20L4 18.59l7.72-7.72 1.47 1.35L5.41 20z\"/>\n",
              "  </svg>\n",
              "      </button>\n",
              "      \n",
              "  <style>\n",
              "    .colab-df-container {\n",
              "      display:flex;\n",
              "      flex-wrap:wrap;\n",
              "      gap: 12px;\n",
              "    }\n",
              "\n",
              "    .colab-df-convert {\n",
              "      background-color: #E8F0FE;\n",
              "      border: none;\n",
              "      border-radius: 50%;\n",
              "      cursor: pointer;\n",
              "      display: none;\n",
              "      fill: #1967D2;\n",
              "      height: 32px;\n",
              "      padding: 0 0 0 0;\n",
              "      width: 32px;\n",
              "    }\n",
              "\n",
              "    .colab-df-convert:hover {\n",
              "      background-color: #E2EBFA;\n",
              "      box-shadow: 0px 1px 2px rgba(60, 64, 67, 0.3), 0px 1px 3px 1px rgba(60, 64, 67, 0.15);\n",
              "      fill: #174EA6;\n",
              "    }\n",
              "\n",
              "    [theme=dark] .colab-df-convert {\n",
              "      background-color: #3B4455;\n",
              "      fill: #D2E3FC;\n",
              "    }\n",
              "\n",
              "    [theme=dark] .colab-df-convert:hover {\n",
              "      background-color: #434B5C;\n",
              "      box-shadow: 0px 1px 3px 1px rgba(0, 0, 0, 0.15);\n",
              "      filter: drop-shadow(0px 1px 2px rgba(0, 0, 0, 0.3));\n",
              "      fill: #FFFFFF;\n",
              "    }\n",
              "  </style>\n",
              "\n",
              "      <script>\n",
              "        const buttonEl =\n",
              "          document.querySelector('#df-625f0971-efbf-4759-8e82-f96e1eef5e57 button.colab-df-convert');\n",
              "        buttonEl.style.display =\n",
              "          google.colab.kernel.accessAllowed ? 'block' : 'none';\n",
              "\n",
              "        async function convertToInteractive(key) {\n",
              "          const element = document.querySelector('#df-625f0971-efbf-4759-8e82-f96e1eef5e57');\n",
              "          const dataTable =\n",
              "            await google.colab.kernel.invokeFunction('convertToInteractive',\n",
              "                                                     [key], {});\n",
              "          if (!dataTable) return;\n",
              "\n",
              "          const docLinkHtml = 'Like what you see? Visit the ' +\n",
              "            '<a target=\"_blank\" href=https://colab.research.google.com/notebooks/data_table.ipynb>data table notebook</a>'\n",
              "            + ' to learn more about interactive tables.';\n",
              "          element.innerHTML = '';\n",
              "          dataTable['output_type'] = 'display_data';\n",
              "          await google.colab.output.renderOutput(dataTable, element);\n",
              "          const docLink = document.createElement('div');\n",
              "          docLink.innerHTML = docLinkHtml;\n",
              "          element.appendChild(docLink);\n",
              "        }\n",
              "      </script>\n",
              "    </div>\n",
              "  </div>\n",
              "  "
            ]
          },
          "metadata": {},
          "execution_count": 27
        }
      ]
    },
    {
      "cell_type": "markdown",
      "source": [
        "<figure>\n",
        "<center>\n",
        "<img src='https://raw.githubusercontent.com/danielfrgs/2023_1-Datos_Masivos_II/main/Unidad1/Miniproyecto/1.png' height=\"400\" />\n",
        "</center>\n",
        "</figure>"
      ],
      "metadata": {
        "id": "hkabnwk7E_Rm"
      }
    },
    {
      "cell_type": "code",
      "source": [
        "# Visualiza los que se clasificaron en Política\n",
        "df[df['Class'] == 8][['name', 'text']]"
      ],
      "metadata": {
        "colab": {
          "base_uri": "https://localhost:8080/",
          "height": 424
        },
        "id": "2uzPPtu8R9Nk",
        "outputId": "8ecf4758-c47e-4c65-b0ce-abb5371eccc0"
      },
      "execution_count": null,
      "outputs": [
        {
          "output_type": "execute_result",
          "data": {
            "text/plain": [
              "                                     name  \\\n",
              "234                          Dave Chomiak   \n",
              "1608                       Bhaskar Jadhav   \n",
              "1724                          U. C. Raman   \n",
              "1827                          Snyder Rini   \n",
              "2375                 Rosa Elba P%C3%A9rez   \n",
              "...                                   ...   \n",
              "40469                      David Dewhurst   \n",
              "40536                         David Arore   \n",
              "41059                        Arch Pafford   \n",
              "42154  C%C3%A9sar Ra%C3%BAl Ojeda Zubieta   \n",
              "42230                     Yaphett El-Amin   \n",
              "\n",
              "                                                    text  \n",
              "234    david walter politician currently cabinet mini...  \n",
              "1608   former minister labour special assistancemahar...  \n",
              "1724   politician president union dalit league schedu...  \n",
              "1827   solomon island politician briefly eighth prime...  \n",
              "2375   prez hernndez septiembreactualmente diputada f...  \n",
              "...                                                  ...  \n",
              "40469  henry lieutenant governor serve member republi...  \n",
              "40536  papua politicianhe first elect national parlia...  \n",
              "41059  politician brunswick canadain federal election...  \n",
              "42154  csar politician member democratic revolution p...  \n",
              "42230  politician represent portion louis house repre...  \n",
              "\n",
              "[118 rows x 2 columns]"
            ],
            "text/html": [
              "\n",
              "  <div id=\"df-53811004-9131-490d-9fbe-17e7b5fdcc27\">\n",
              "    <div class=\"colab-df-container\">\n",
              "      <div>\n",
              "<style scoped>\n",
              "    .dataframe tbody tr th:only-of-type {\n",
              "        vertical-align: middle;\n",
              "    }\n",
              "\n",
              "    .dataframe tbody tr th {\n",
              "        vertical-align: top;\n",
              "    }\n",
              "\n",
              "    .dataframe thead th {\n",
              "        text-align: right;\n",
              "    }\n",
              "</style>\n",
              "<table border=\"1\" class=\"dataframe\">\n",
              "  <thead>\n",
              "    <tr style=\"text-align: right;\">\n",
              "      <th></th>\n",
              "      <th>name</th>\n",
              "      <th>text</th>\n",
              "    </tr>\n",
              "  </thead>\n",
              "  <tbody>\n",
              "    <tr>\n",
              "      <th>234</th>\n",
              "      <td>Dave Chomiak</td>\n",
              "      <td>david walter politician currently cabinet mini...</td>\n",
              "    </tr>\n",
              "    <tr>\n",
              "      <th>1608</th>\n",
              "      <td>Bhaskar Jadhav</td>\n",
              "      <td>former minister labour special assistancemahar...</td>\n",
              "    </tr>\n",
              "    <tr>\n",
              "      <th>1724</th>\n",
              "      <td>U. C. Raman</td>\n",
              "      <td>politician president union dalit league schedu...</td>\n",
              "    </tr>\n",
              "    <tr>\n",
              "      <th>1827</th>\n",
              "      <td>Snyder Rini</td>\n",
              "      <td>solomon island politician briefly eighth prime...</td>\n",
              "    </tr>\n",
              "    <tr>\n",
              "      <th>2375</th>\n",
              "      <td>Rosa Elba P%C3%A9rez</td>\n",
              "      <td>prez hernndez septiembreactualmente diputada f...</td>\n",
              "    </tr>\n",
              "    <tr>\n",
              "      <th>...</th>\n",
              "      <td>...</td>\n",
              "      <td>...</td>\n",
              "    </tr>\n",
              "    <tr>\n",
              "      <th>40469</th>\n",
              "      <td>David Dewhurst</td>\n",
              "      <td>henry lieutenant governor serve member republi...</td>\n",
              "    </tr>\n",
              "    <tr>\n",
              "      <th>40536</th>\n",
              "      <td>David Arore</td>\n",
              "      <td>papua politicianhe first elect national parlia...</td>\n",
              "    </tr>\n",
              "    <tr>\n",
              "      <th>41059</th>\n",
              "      <td>Arch Pafford</td>\n",
              "      <td>politician brunswick canadain federal election...</td>\n",
              "    </tr>\n",
              "    <tr>\n",
              "      <th>42154</th>\n",
              "      <td>C%C3%A9sar Ra%C3%BAl Ojeda Zubieta</td>\n",
              "      <td>csar politician member democratic revolution p...</td>\n",
              "    </tr>\n",
              "    <tr>\n",
              "      <th>42230</th>\n",
              "      <td>Yaphett El-Amin</td>\n",
              "      <td>politician represent portion louis house repre...</td>\n",
              "    </tr>\n",
              "  </tbody>\n",
              "</table>\n",
              "<p>118 rows × 2 columns</p>\n",
              "</div>\n",
              "      <button class=\"colab-df-convert\" onclick=\"convertToInteractive('df-53811004-9131-490d-9fbe-17e7b5fdcc27')\"\n",
              "              title=\"Convert this dataframe to an interactive table.\"\n",
              "              style=\"display:none;\">\n",
              "        \n",
              "  <svg xmlns=\"http://www.w3.org/2000/svg\" height=\"24px\"viewBox=\"0 0 24 24\"\n",
              "       width=\"24px\">\n",
              "    <path d=\"M0 0h24v24H0V0z\" fill=\"none\"/>\n",
              "    <path d=\"M18.56 5.44l.94 2.06.94-2.06 2.06-.94-2.06-.94-.94-2.06-.94 2.06-2.06.94zm-11 1L8.5 8.5l.94-2.06 2.06-.94-2.06-.94L8.5 2.5l-.94 2.06-2.06.94zm10 10l.94 2.06.94-2.06 2.06-.94-2.06-.94-.94-2.06-.94 2.06-2.06.94z\"/><path d=\"M17.41 7.96l-1.37-1.37c-.4-.4-.92-.59-1.43-.59-.52 0-1.04.2-1.43.59L10.3 9.45l-7.72 7.72c-.78.78-.78 2.05 0 2.83L4 21.41c.39.39.9.59 1.41.59.51 0 1.02-.2 1.41-.59l7.78-7.78 2.81-2.81c.8-.78.8-2.07 0-2.86zM5.41 20L4 18.59l7.72-7.72 1.47 1.35L5.41 20z\"/>\n",
              "  </svg>\n",
              "      </button>\n",
              "      \n",
              "  <style>\n",
              "    .colab-df-container {\n",
              "      display:flex;\n",
              "      flex-wrap:wrap;\n",
              "      gap: 12px;\n",
              "    }\n",
              "\n",
              "    .colab-df-convert {\n",
              "      background-color: #E8F0FE;\n",
              "      border: none;\n",
              "      border-radius: 50%;\n",
              "      cursor: pointer;\n",
              "      display: none;\n",
              "      fill: #1967D2;\n",
              "      height: 32px;\n",
              "      padding: 0 0 0 0;\n",
              "      width: 32px;\n",
              "    }\n",
              "\n",
              "    .colab-df-convert:hover {\n",
              "      background-color: #E2EBFA;\n",
              "      box-shadow: 0px 1px 2px rgba(60, 64, 67, 0.3), 0px 1px 3px 1px rgba(60, 64, 67, 0.15);\n",
              "      fill: #174EA6;\n",
              "    }\n",
              "\n",
              "    [theme=dark] .colab-df-convert {\n",
              "      background-color: #3B4455;\n",
              "      fill: #D2E3FC;\n",
              "    }\n",
              "\n",
              "    [theme=dark] .colab-df-convert:hover {\n",
              "      background-color: #434B5C;\n",
              "      box-shadow: 0px 1px 3px 1px rgba(0, 0, 0, 0.15);\n",
              "      filter: drop-shadow(0px 1px 2px rgba(0, 0, 0, 0.3));\n",
              "      fill: #FFFFFF;\n",
              "    }\n",
              "  </style>\n",
              "\n",
              "      <script>\n",
              "        const buttonEl =\n",
              "          document.querySelector('#df-53811004-9131-490d-9fbe-17e7b5fdcc27 button.colab-df-convert');\n",
              "        buttonEl.style.display =\n",
              "          google.colab.kernel.accessAllowed ? 'block' : 'none';\n",
              "\n",
              "        async function convertToInteractive(key) {\n",
              "          const element = document.querySelector('#df-53811004-9131-490d-9fbe-17e7b5fdcc27');\n",
              "          const dataTable =\n",
              "            await google.colab.kernel.invokeFunction('convertToInteractive',\n",
              "                                                     [key], {});\n",
              "          if (!dataTable) return;\n",
              "\n",
              "          const docLinkHtml = 'Like what you see? Visit the ' +\n",
              "            '<a target=\"_blank\" href=https://colab.research.google.com/notebooks/data_table.ipynb>data table notebook</a>'\n",
              "            + ' to learn more about interactive tables.';\n",
              "          element.innerHTML = '';\n",
              "          dataTable['output_type'] = 'display_data';\n",
              "          await google.colab.output.renderOutput(dataTable, element);\n",
              "          const docLink = document.createElement('div');\n",
              "          docLink.innerHTML = docLinkHtml;\n",
              "          element.appendChild(docLink);\n",
              "        }\n",
              "      </script>\n",
              "    </div>\n",
              "  </div>\n",
              "  "
            ]
          },
          "metadata": {},
          "execution_count": 28
        }
      ]
    },
    {
      "cell_type": "markdown",
      "source": [
        "<figure>\n",
        "<center>\n",
        "<img src='https://raw.githubusercontent.com/danielfrgs/2023_1-Datos_Masivos_II/main/Unidad1/Miniproyecto/2.png' height=\"400\" />\n",
        "</center>\n",
        "</figure>"
      ],
      "metadata": {
        "id": "TIgaS2joFAfu"
      }
    },
    {
      "cell_type": "code",
      "source": [
        "# Visualiza los que se clasificaron en Compositores\n",
        "df[df['Class'] == 7][['name', 'text']]"
      ],
      "metadata": {
        "colab": {
          "base_uri": "https://localhost:8080/",
          "height": 424
        },
        "id": "CLqu3--1SNU6",
        "outputId": "6fb1cfeb-27bb-4a85-d744-b7c89d729ac2"
      },
      "execution_count": null,
      "outputs": [
        {
          "output_type": "execute_result",
          "data": {
            "text/plain": [
              "                         name  \\\n",
              "36     Th%C3%BCring Br%C3%A4m   \n",
              "121              Oscar Milani   \n",
              "128      Viktoriya Yermolyeva   \n",
              "189               Jeremy Beck   \n",
              "214            John Acquaviva   \n",
              "...                       ...   \n",
              "42424           Albert Patron   \n",
              "42479        Jane W. Davidson   \n",
              "42573             Wally Shoup   \n",
              "42745           M. K. Arjunan   \n",
              "42760        Maryetta Midgley   \n",
              "\n",
              "                                                    text  \n",
              "36     thring composer conductorbrm graduate school b...  \n",
              "121    rosario study medicine music bariloche foundat...  \n",
              "128    pianist start classical pianist several piano ...  \n",
              "189    composer know importance embrace past also go ...  \n",
              "214    italianborn producer artist musical entreprene...  \n",
              "...                                                  ...  \n",
              "42424  america also composer music theorist writer ph...  \n",
              "42479  musicologist professor creative performing art...  \n",
              "42573  jazz alto saxophonist painter base since mains...  \n",
              "42745  malayalam fondly call master malayalam music c...  \n",
              "42760  soprano daughter operatic tenor walter pianist...  \n",
              "\n",
              "[678 rows x 2 columns]"
            ],
            "text/html": [
              "\n",
              "  <div id=\"df-4f590bba-ad33-4b6c-9a17-cbd76647d796\">\n",
              "    <div class=\"colab-df-container\">\n",
              "      <div>\n",
              "<style scoped>\n",
              "    .dataframe tbody tr th:only-of-type {\n",
              "        vertical-align: middle;\n",
              "    }\n",
              "\n",
              "    .dataframe tbody tr th {\n",
              "        vertical-align: top;\n",
              "    }\n",
              "\n",
              "    .dataframe thead th {\n",
              "        text-align: right;\n",
              "    }\n",
              "</style>\n",
              "<table border=\"1\" class=\"dataframe\">\n",
              "  <thead>\n",
              "    <tr style=\"text-align: right;\">\n",
              "      <th></th>\n",
              "      <th>name</th>\n",
              "      <th>text</th>\n",
              "    </tr>\n",
              "  </thead>\n",
              "  <tbody>\n",
              "    <tr>\n",
              "      <th>36</th>\n",
              "      <td>Th%C3%BCring Br%C3%A4m</td>\n",
              "      <td>thring composer conductorbrm graduate school b...</td>\n",
              "    </tr>\n",
              "    <tr>\n",
              "      <th>121</th>\n",
              "      <td>Oscar Milani</td>\n",
              "      <td>rosario study medicine music bariloche foundat...</td>\n",
              "    </tr>\n",
              "    <tr>\n",
              "      <th>128</th>\n",
              "      <td>Viktoriya Yermolyeva</td>\n",
              "      <td>pianist start classical pianist several piano ...</td>\n",
              "    </tr>\n",
              "    <tr>\n",
              "      <th>189</th>\n",
              "      <td>Jeremy Beck</td>\n",
              "      <td>composer know importance embrace past also go ...</td>\n",
              "    </tr>\n",
              "    <tr>\n",
              "      <th>214</th>\n",
              "      <td>John Acquaviva</td>\n",
              "      <td>italianborn producer artist musical entreprene...</td>\n",
              "    </tr>\n",
              "    <tr>\n",
              "      <th>...</th>\n",
              "      <td>...</td>\n",
              "      <td>...</td>\n",
              "    </tr>\n",
              "    <tr>\n",
              "      <th>42424</th>\n",
              "      <td>Albert Patron</td>\n",
              "      <td>america also composer music theorist writer ph...</td>\n",
              "    </tr>\n",
              "    <tr>\n",
              "      <th>42479</th>\n",
              "      <td>Jane W. Davidson</td>\n",
              "      <td>musicologist professor creative performing art...</td>\n",
              "    </tr>\n",
              "    <tr>\n",
              "      <th>42573</th>\n",
              "      <td>Wally Shoup</td>\n",
              "      <td>jazz alto saxophonist painter base since mains...</td>\n",
              "    </tr>\n",
              "    <tr>\n",
              "      <th>42745</th>\n",
              "      <td>M. K. Arjunan</td>\n",
              "      <td>malayalam fondly call master malayalam music c...</td>\n",
              "    </tr>\n",
              "    <tr>\n",
              "      <th>42760</th>\n",
              "      <td>Maryetta Midgley</td>\n",
              "      <td>soprano daughter operatic tenor walter pianist...</td>\n",
              "    </tr>\n",
              "  </tbody>\n",
              "</table>\n",
              "<p>678 rows × 2 columns</p>\n",
              "</div>\n",
              "      <button class=\"colab-df-convert\" onclick=\"convertToInteractive('df-4f590bba-ad33-4b6c-9a17-cbd76647d796')\"\n",
              "              title=\"Convert this dataframe to an interactive table.\"\n",
              "              style=\"display:none;\">\n",
              "        \n",
              "  <svg xmlns=\"http://www.w3.org/2000/svg\" height=\"24px\"viewBox=\"0 0 24 24\"\n",
              "       width=\"24px\">\n",
              "    <path d=\"M0 0h24v24H0V0z\" fill=\"none\"/>\n",
              "    <path d=\"M18.56 5.44l.94 2.06.94-2.06 2.06-.94-2.06-.94-.94-2.06-.94 2.06-2.06.94zm-11 1L8.5 8.5l.94-2.06 2.06-.94-2.06-.94L8.5 2.5l-.94 2.06-2.06.94zm10 10l.94 2.06.94-2.06 2.06-.94-2.06-.94-.94-2.06-.94 2.06-2.06.94z\"/><path d=\"M17.41 7.96l-1.37-1.37c-.4-.4-.92-.59-1.43-.59-.52 0-1.04.2-1.43.59L10.3 9.45l-7.72 7.72c-.78.78-.78 2.05 0 2.83L4 21.41c.39.39.9.59 1.41.59.51 0 1.02-.2 1.41-.59l7.78-7.78 2.81-2.81c.8-.78.8-2.07 0-2.86zM5.41 20L4 18.59l7.72-7.72 1.47 1.35L5.41 20z\"/>\n",
              "  </svg>\n",
              "      </button>\n",
              "      \n",
              "  <style>\n",
              "    .colab-df-container {\n",
              "      display:flex;\n",
              "      flex-wrap:wrap;\n",
              "      gap: 12px;\n",
              "    }\n",
              "\n",
              "    .colab-df-convert {\n",
              "      background-color: #E8F0FE;\n",
              "      border: none;\n",
              "      border-radius: 50%;\n",
              "      cursor: pointer;\n",
              "      display: none;\n",
              "      fill: #1967D2;\n",
              "      height: 32px;\n",
              "      padding: 0 0 0 0;\n",
              "      width: 32px;\n",
              "    }\n",
              "\n",
              "    .colab-df-convert:hover {\n",
              "      background-color: #E2EBFA;\n",
              "      box-shadow: 0px 1px 2px rgba(60, 64, 67, 0.3), 0px 1px 3px 1px rgba(60, 64, 67, 0.15);\n",
              "      fill: #174EA6;\n",
              "    }\n",
              "\n",
              "    [theme=dark] .colab-df-convert {\n",
              "      background-color: #3B4455;\n",
              "      fill: #D2E3FC;\n",
              "    }\n",
              "\n",
              "    [theme=dark] .colab-df-convert:hover {\n",
              "      background-color: #434B5C;\n",
              "      box-shadow: 0px 1px 3px 1px rgba(0, 0, 0, 0.15);\n",
              "      filter: drop-shadow(0px 1px 2px rgba(0, 0, 0, 0.3));\n",
              "      fill: #FFFFFF;\n",
              "    }\n",
              "  </style>\n",
              "\n",
              "      <script>\n",
              "        const buttonEl =\n",
              "          document.querySelector('#df-4f590bba-ad33-4b6c-9a17-cbd76647d796 button.colab-df-convert');\n",
              "        buttonEl.style.display =\n",
              "          google.colab.kernel.accessAllowed ? 'block' : 'none';\n",
              "\n",
              "        async function convertToInteractive(key) {\n",
              "          const element = document.querySelector('#df-4f590bba-ad33-4b6c-9a17-cbd76647d796');\n",
              "          const dataTable =\n",
              "            await google.colab.kernel.invokeFunction('convertToInteractive',\n",
              "                                                     [key], {});\n",
              "          if (!dataTable) return;\n",
              "\n",
              "          const docLinkHtml = 'Like what you see? Visit the ' +\n",
              "            '<a target=\"_blank\" href=https://colab.research.google.com/notebooks/data_table.ipynb>data table notebook</a>'\n",
              "            + ' to learn more about interactive tables.';\n",
              "          element.innerHTML = '';\n",
              "          dataTable['output_type'] = 'display_data';\n",
              "          await google.colab.output.renderOutput(dataTable, element);\n",
              "          const docLink = document.createElement('div');\n",
              "          docLink.innerHTML = docLinkHtml;\n",
              "          element.appendChild(docLink);\n",
              "        }\n",
              "      </script>\n",
              "    </div>\n",
              "  </div>\n",
              "  "
            ]
          },
          "metadata": {},
          "execution_count": 42
        }
      ]
    },
    {
      "cell_type": "markdown",
      "source": [
        "<figure>\n",
        "<center>\n",
        "<img src='https://raw.githubusercontent.com/danielfrgs/2023_1-Datos_Masivos_II/main/Unidad1/Miniproyecto/3.png' height=\"400\" />\n",
        "</center>\n",
        "</figure>"
      ],
      "metadata": {
        "id": "0o0DifkIFBzX"
      }
    }
  ]
}